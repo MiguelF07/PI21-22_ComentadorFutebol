{
 "cells": [
  {
   "cell_type": "code",
   "execution_count": 5,
   "metadata": {},
   "outputs": [
    {
     "name": "stderr",
     "output_type": "stream",
     "text": [
      "2022-04-12 16:55:01.501676: W tensorflow/stream_executor/platform/default/dso_loader.cc:64] Could not load dynamic library 'libcuda.so.1'; dlerror: libcuda.so.1: cannot open shared object file: No such file or directory\n",
      "2022-04-12 16:55:01.501858: W tensorflow/stream_executor/cuda/cuda_driver.cc:269] failed call to cuInit: UNKNOWN ERROR (303)\n",
      "2022-04-12 16:55:01.501968: I tensorflow/stream_executor/cuda/cuda_diagnostics.cc:156] kernel driver does not appear to be running on this host (itstar-MacBookPro): /proc/driver/nvidia/version does not exist\n",
      "2022-04-12 16:55:01.503253: I tensorflow/core/platform/cpu_feature_guard.cc:151] This TensorFlow binary is optimized with oneAPI Deep Neural Network Library (oneDNN) to use the following CPU instructions in performance-critical operations:  AVX2 FMA\n",
      "To enable them in other operations, rebuild TensorFlow with the appropriate compiler flags.\n"
     ]
    }
   ],
   "source": [
    "import numpy as np\n",
    "import matplotlib.pyplot as plt\n",
    "import pandas as pd\n",
    "from sklearn.preprocessing import MinMaxScaler\n",
    "\n",
    "# LSTM library\n",
    "from keras.models import Sequential\n",
    "from keras.layers import Dense\n",
    "from keras.layers import LSTM\n",
    "from keras.layers import Dropout\n",
    "\n",
    "# Importing the CSV file\n",
    "apple_training_complete = pd.read_csv(\"./AAPL.csv\")\n",
    "\n",
    "# Filter only for the \"Open\" collumn on the csv file\n",
    "apple_training_processed = apple_training_complete.iloc[:, 1:2].values\n",
    "\n",
    "# Applying normalization\n",
    "scaler = MinMaxScaler(feature_range = (0, 1))\n",
    "apple_training_scaled = scaler.fit_transform(apple_training_processed)\n",
    "\n",
    "# Convert training to the right shape\n",
    "N_RECORDS = len(apple_training_processed)\n",
    "PAST_DAYS = 60\n",
    "features_set = []\n",
    "labels = []\n",
    "for i in range(PAST_DAYS, N_RECORDS):\n",
    "    features_set.append(apple_training_scaled[i-PAST_DAYS:i, 0]) # previous N records\n",
    "    labels.append(apple_training_scaled[i, 0])\n",
    "\n",
    "# Converting to numpy arrays\n",
    "features_set, labels = np.array(features_set), np.array(labels)\n",
    "\n",
    "# Converting to the LSTM format where the dimensions are:\n",
    "# - number of records (1260)\n",
    "# - number of time steps (past days) (60)\n",
    "# - number of indicators/features. In our case, we want only the \"Open\" column, so it's 1\n",
    "features_set = np.reshape(features_set, (features_set.shape[0], features_set.shape[1], 1))\n",
    "\n",
    "# Model initialization\n",
    "model = Sequential()\n",
    "\n",
    "# Adding LSTM layer\n",
    "# a funcao \"add\" literalmente adiciona um novo layer, que no nosso caso, sera um LSTM\n",
    "\n",
    "# The fist LSTM parameter is the number of neurons on the node\n",
    "# The second one is basically true, because we'll add more layers to the model\n",
    "# The last one is a shape indicating the number of time steps and the number of indicators\n",
    "model.add(LSTM(units=50, return_sequences=True, input_shape=(features_set.shape[1], 1)))\n",
    "\n",
    "# Adding Dropout layer (avoids over-fitting)\n",
    "model.add(Dropout(0.2))\n",
    "\n",
    "# Adding three more LSTM and Dropout layers\n",
    "model.add(LSTM(units=50, return_sequences=True))\n",
    "model.add(Dropout(0.2))\n",
    "\n",
    "model.add(LSTM(units=50, return_sequences=True))\n",
    "model.add(Dropout(0.2))\n",
    "\n",
    "model.add(LSTM(units=50))\n",
    "model.add(Dropout(0.2))\n",
    "\n",
    "# Adding Dense Layer (ending layer...?)\n",
    "# 1 unit beause we want to predict\n",
    "model.add(Dense(units = 1))\n",
    "\n",
    "# Compiling the model\n",
    "model.compile(optimizer = 'adam', loss = 'mean_squared_error')\n"
   ]
  },
  {
   "cell_type": "markdown",
   "metadata": {},
   "source": [
    "Training the model"
   ]
  },
  {
   "cell_type": "code",
   "execution_count": 9,
   "metadata": {},
   "outputs": [
    {
     "name": "stdout",
     "output_type": "stream",
     "text": [
      "Epoch 1/100\n",
      "7/7 [==============================] - 18s 300ms/step - loss: 0.2043\n",
      "Epoch 2/100\n",
      "7/7 [==============================] - 2s 290ms/step - loss: 0.0364\n",
      "Epoch 3/100\n",
      "7/7 [==============================] - 2s 280ms/step - loss: 0.0310\n",
      "Epoch 4/100\n",
      "7/7 [==============================] - 2s 283ms/step - loss: 0.0287\n",
      "Epoch 5/100\n",
      "7/7 [==============================] - 2s 284ms/step - loss: 0.0245\n",
      "Epoch 6/100\n",
      "7/7 [==============================] - 1s 132ms/step - loss: 0.0183\n",
      "Epoch 7/100\n",
      "7/7 [==============================] - 1s 124ms/step - loss: 0.0224\n",
      "Epoch 8/100\n",
      "7/7 [==============================] - 1s 83ms/step - loss: 0.0174\n",
      "Epoch 9/100\n",
      "7/7 [==============================] - 1s 85ms/step - loss: 0.0232\n",
      "Epoch 10/100\n",
      "7/7 [==============================] - 1s 95ms/step - loss: 0.0187\n",
      "Epoch 11/100\n",
      "7/7 [==============================] - 1s 83ms/step - loss: 0.0206\n",
      "Epoch 12/100\n",
      "7/7 [==============================] - 1s 102ms/step - loss: 0.0224\n",
      "Epoch 13/100\n",
      "7/7 [==============================] - 1s 171ms/step - loss: 0.0187\n",
      "Epoch 14/100\n",
      "7/7 [==============================] - 1s 157ms/step - loss: 0.0175\n",
      "Epoch 15/100\n",
      "7/7 [==============================] - 1s 175ms/step - loss: 0.0173\n",
      "Epoch 16/100\n",
      "7/7 [==============================] - 1s 120ms/step - loss: 0.0185\n",
      "Epoch 17/100\n",
      "7/7 [==============================] - 1s 138ms/step - loss: 0.0177\n",
      "Epoch 18/100\n",
      "7/7 [==============================] - 1s 132ms/step - loss: 0.0186\n",
      "Epoch 19/100\n",
      "7/7 [==============================] - 1s 134ms/step - loss: 0.0169\n",
      "Epoch 20/100\n",
      "7/7 [==============================] - 1s 166ms/step - loss: 0.0187\n",
      "Epoch 21/100\n",
      "7/7 [==============================] - 1s 117ms/step - loss: 0.0164\n",
      "Epoch 22/100\n",
      "7/7 [==============================] - 1s 147ms/step - loss: 0.0194\n",
      "Epoch 23/100\n",
      "7/7 [==============================] - 2s 268ms/step - loss: 0.0163\n",
      "Epoch 24/100\n",
      "7/7 [==============================] - 3s 365ms/step - loss: 0.0171\n",
      "Epoch 25/100\n",
      "7/7 [==============================] - 3s 373ms/step - loss: 0.0230\n",
      "Epoch 26/100\n",
      "7/7 [==============================] - 3s 410ms/step - loss: 0.0169\n",
      "Epoch 27/100\n",
      "7/7 [==============================] - 3s 399ms/step - loss: 0.0195\n",
      "Epoch 28/100\n",
      "7/7 [==============================] - 3s 402ms/step - loss: 0.0168\n",
      "Epoch 29/100\n",
      "7/7 [==============================] - 3s 464ms/step - loss: 0.0159\n",
      "Epoch 30/100\n",
      "7/7 [==============================] - 3s 493ms/step - loss: 0.0169\n",
      "Epoch 31/100\n",
      "7/7 [==============================] - 2s 242ms/step - loss: 0.0162\n",
      "Epoch 32/100\n",
      "7/7 [==============================] - 2s 342ms/step - loss: 0.0169\n",
      "Epoch 33/100\n",
      "7/7 [==============================] - 2s 267ms/step - loss: 0.0159\n",
      "Epoch 34/100\n",
      "7/7 [==============================] - 1s 199ms/step - loss: 0.0163\n",
      "Epoch 35/100\n",
      "7/7 [==============================] - 1s 195ms/step - loss: 0.0136\n",
      "Epoch 36/100\n",
      "7/7 [==============================] - 1s 200ms/step - loss: 0.0183\n",
      "Epoch 37/100\n",
      "7/7 [==============================] - 1s 175ms/step - loss: 0.0259\n",
      "Epoch 38/100\n",
      "7/7 [==============================] - 1s 168ms/step - loss: 0.0301\n",
      "Epoch 39/100\n",
      "7/7 [==============================] - 1s 133ms/step - loss: 0.0199\n",
      "Epoch 40/100\n",
      "7/7 [==============================] - 1s 125ms/step - loss: 0.0172\n",
      "Epoch 41/100\n",
      "7/7 [==============================] - 1s 125ms/step - loss: 0.0159\n",
      "Epoch 42/100\n",
      "7/7 [==============================] - 1s 123ms/step - loss: 0.0158\n",
      "Epoch 43/100\n",
      "7/7 [==============================] - 1s 130ms/step - loss: 0.0133\n",
      "Epoch 44/100\n",
      "7/7 [==============================] - 1s 126ms/step - loss: 0.0137\n",
      "Epoch 45/100\n",
      "7/7 [==============================] - 1s 124ms/step - loss: 0.0139\n",
      "Epoch 46/100\n",
      "7/7 [==============================] - 1s 125ms/step - loss: 0.0139\n",
      "Epoch 47/100\n",
      "7/7 [==============================] - 1s 124ms/step - loss: 0.0151\n",
      "Epoch 48/100\n",
      "7/7 [==============================] - 1s 128ms/step - loss: 0.0149\n",
      "Epoch 49/100\n",
      "7/7 [==============================] - 1s 123ms/step - loss: 0.0124\n",
      "Epoch 50/100\n",
      "7/7 [==============================] - 1s 118ms/step - loss: 0.0137\n",
      "Epoch 51/100\n",
      "7/7 [==============================] - 1s 119ms/step - loss: 0.0136\n",
      "Epoch 52/100\n",
      "7/7 [==============================] - 1s 137ms/step - loss: 0.0110\n",
      "Epoch 53/100\n",
      "7/7 [==============================] - 1s 119ms/step - loss: 0.0124\n",
      "Epoch 54/100\n",
      "7/7 [==============================] - 1s 124ms/step - loss: 0.0151\n",
      "Epoch 55/100\n",
      "7/7 [==============================] - 1s 117ms/step - loss: 0.0127\n",
      "Epoch 56/100\n",
      "7/7 [==============================] - 1s 117ms/step - loss: 0.0124\n",
      "Epoch 57/100\n",
      "7/7 [==============================] - 1s 135ms/step - loss: 0.0128\n",
      "Epoch 58/100\n",
      "7/7 [==============================] - 1s 123ms/step - loss: 0.0154\n",
      "Epoch 59/100\n",
      "7/7 [==============================] - 1s 125ms/step - loss: 0.0147\n",
      "Epoch 60/100\n",
      "7/7 [==============================] - 1s 136ms/step - loss: 0.0122\n",
      "Epoch 61/100\n",
      "7/7 [==============================] - 1s 140ms/step - loss: 0.0120\n",
      "Epoch 62/100\n",
      "7/7 [==============================] - 1s 119ms/step - loss: 0.0118\n",
      "Epoch 63/100\n",
      "7/7 [==============================] - 1s 119ms/step - loss: 0.0115\n",
      "Epoch 64/100\n",
      "7/7 [==============================] - 1s 111ms/step - loss: 0.0114\n",
      "Epoch 65/100\n",
      "7/7 [==============================] - 1s 117ms/step - loss: 0.0109\n",
      "Epoch 66/100\n",
      "7/7 [==============================] - 1s 111ms/step - loss: 0.0109\n",
      "Epoch 67/100\n",
      "7/7 [==============================] - 1s 114ms/step - loss: 0.0124\n",
      "Epoch 68/100\n",
      "7/7 [==============================] - 1s 128ms/step - loss: 0.0119\n",
      "Epoch 69/100\n",
      "7/7 [==============================] - 1s 115ms/step - loss: 0.0113\n",
      "Epoch 70/100\n",
      "7/7 [==============================] - 1s 110ms/step - loss: 0.0108\n",
      "Epoch 71/100\n",
      "7/7 [==============================] - 1s 112ms/step - loss: 0.0123\n",
      "Epoch 72/100\n",
      "7/7 [==============================] - 1s 116ms/step - loss: 0.0133\n",
      "Epoch 73/100\n",
      "7/7 [==============================] - 1s 133ms/step - loss: 0.0112\n",
      "Epoch 74/100\n",
      "7/7 [==============================] - 1s 119ms/step - loss: 0.0127\n",
      "Epoch 75/100\n",
      "7/7 [==============================] - 2s 226ms/step - loss: 0.0107\n",
      "Epoch 76/100\n",
      "7/7 [==============================] - 1s 185ms/step - loss: 0.0106\n",
      "Epoch 77/100\n",
      "7/7 [==============================] - 2s 306ms/step - loss: 0.0104\n",
      "Epoch 78/100\n",
      "7/7 [==============================] - 2s 299ms/step - loss: 0.0121\n",
      "Epoch 79/100\n",
      "7/7 [==============================] - 2s 251ms/step - loss: 0.0122\n",
      "Epoch 80/100\n",
      "7/7 [==============================] - 2s 316ms/step - loss: 0.0127\n",
      "Epoch 81/100\n",
      "7/7 [==============================] - 2s 315ms/step - loss: 0.0129\n",
      "Epoch 82/100\n",
      "7/7 [==============================] - 2s 321ms/step - loss: 0.0119\n",
      "Epoch 83/100\n",
      "7/7 [==============================] - 2s 265ms/step - loss: 0.0106\n",
      "Epoch 84/100\n",
      "7/7 [==============================] - 2s 343ms/step - loss: 0.0104\n",
      "Epoch 85/100\n",
      "7/7 [==============================] - 2s 321ms/step - loss: 0.0112\n",
      "Epoch 86/100\n",
      "7/7 [==============================] - 2s 251ms/step - loss: 0.0127\n",
      "Epoch 87/100\n",
      "7/7 [==============================] - 2s 295ms/step - loss: 0.0130\n",
      "Epoch 88/100\n",
      "7/7 [==============================] - 2s 261ms/step - loss: 0.0110\n",
      "Epoch 89/100\n",
      "7/7 [==============================] - 2s 253ms/step - loss: 0.0110\n",
      "Epoch 90/100\n",
      "7/7 [==============================] - 2s 250ms/step - loss: 0.0114\n",
      "Epoch 91/100\n",
      "7/7 [==============================] - 1s 190ms/step - loss: 0.0117\n",
      "Epoch 92/100\n",
      "7/7 [==============================] - 2s 260ms/step - loss: 0.0120\n",
      "Epoch 93/100\n",
      "7/7 [==============================] - 2s 257ms/step - loss: 0.0117\n",
      "Epoch 94/100\n",
      "7/7 [==============================] - 2s 243ms/step - loss: 0.0104\n",
      "Epoch 95/100\n",
      "7/7 [==============================] - 1s 180ms/step - loss: 0.0101\n",
      "Epoch 96/100\n",
      "7/7 [==============================] - 1s 140ms/step - loss: 0.0102\n",
      "Epoch 97/100\n",
      "7/7 [==============================] - 1s 143ms/step - loss: 0.0096\n",
      "Epoch 98/100\n",
      "7/7 [==============================] - 1s 136ms/step - loss: 0.0103\n",
      "Epoch 99/100\n",
      "7/7 [==============================] - 1s 146ms/step - loss: 0.0089\n",
      "Epoch 100/100\n",
      "7/7 [==============================] - 1s 133ms/step - loss: 0.0095\n"
     ]
    },
    {
     "data": {
      "text/plain": [
       "<keras.callbacks.History at 0x7f9609ddae50>"
      ]
     },
     "execution_count": 9,
     "metadata": {},
     "output_type": "execute_result"
    }
   ],
   "source": [
    "# Training the model\n",
    "# epochs --> number of iteractions probably\n",
    "model.fit(features_set, labels, epochs = 100, batch_size = 32)"
   ]
  },
  {
   "cell_type": "markdown",
   "metadata": {},
   "source": [
    "Testing our LSTM"
   ]
  },
  {
   "cell_type": "code",
   "execution_count": 8,
   "metadata": {},
   "outputs": [
    {
     "data": {
      "image/png": "[encoded data removed]",
      "text/plain": [
       "<Figure size 720x432 with 1 Axes>"
      ]
     },
     "metadata": {
      "needs_background": "light"
     },
     "output_type": "display_data"
    }
   ],
   "source": [
    "# Importing the data\n",
    "apple_testing_complete = pd.read_csv(\"./AAPL.csv\")\n",
    "apple_testing_processed = apple_testing_complete.iloc[:, 1:2].values\n",
    "\n",
    "plt.figure(figsize=(10,6))\n",
    "plt.plot(apple_testing_processed, color='blue', label='Actual Apple Stock Price')\n",
    "plt.title('Apple Stock Price Prediction')\n",
    "plt.xlabel('Row number')\n",
    "plt.ylabel('Apple Stock Price')\n",
    "plt.legend()\n",
    "plt.grid()\n",
    "plt.show()"
   ]
  },
  {
   "cell_type": "markdown",
   "metadata": {},
   "source": [
    "# Converting Test Data to Right Format\n",
    "For each day of January 2018, we want our feature set to contain the opening stock prices for the previous 60 days. For the 1st of January, we need the stock prices for the previous 60 days. To do so, we need to concatenate our training data and test data before preprocessing. Execute the following script to do so:"
   ]
  },
  {
   "cell_type": "code",
   "execution_count": 10,
   "metadata": {},
   "outputs": [],
   "source": [
    "apple_total = pd.concat((apple_training_complete['Open'], apple_testing_complete['Open']), axis=0)"
   ]
  },
  {
   "cell_type": "markdown",
   "metadata": {},
   "source": [
    "Now let's prepare our test inputs. The input for each day should contain the opening stock prices for the previous 60 days. That means we need opening stock prices for the 20 **(wtf, why 20?)** test days for the month of January 2018 and the 60 stock prices from the last 60 days for the training set. Execute the following script to fetch those 80 values."
   ]
  },
  {
   "cell_type": "code",
   "execution_count": 11,
   "metadata": {},
   "outputs": [],
   "source": [
    "test_inputs = apple_total[len(apple_total) - len(apple_testing_complete) - 60:].values"
   ]
  },
  {
   "cell_type": "markdown",
   "metadata": {},
   "source": [
    "As we did for the training set, we need to scale our test data. Execute the following script:"
   ]
  },
  {
   "cell_type": "code",
   "execution_count": 12,
   "metadata": {},
   "outputs": [],
   "source": [
    "test_inputs = test_inputs.reshape(-1,1)\n",
    "test_inputs = scaler.transform(test_inputs)"
   ]
  },
  {
   "cell_type": "markdown",
   "metadata": {},
   "source": [
    "We scaled our data, now let's prepare our final test input set that will contain previous 60 stock prices for the month of January. Execute the following script:"
   ]
  },
  {
   "cell_type": "code",
   "execution_count": 23,
   "metadata": {},
   "outputs": [],
   "source": [
    "test_features = []\n",
    "for i in range(PAST_DAYS, len(apple_testing_processed)): \n",
    "    # 80 aparentemente para fazer o 20 cursed que tem la em cima... \n",
    "    # but i didn't understand that pretty well\n",
    "    test_features.append(test_inputs[i-PAST_DAYS:i, 0])"
   ]
  },
  {
   "cell_type": "markdown",
   "metadata": {},
   "source": [
    "Finally, we need to convert our data into the three-dimensional format which can be used as input to the LSTM. Execute the following script:"
   ]
  },
  {
   "cell_type": "code",
   "execution_count": 24,
   "metadata": {},
   "outputs": [],
   "source": [
    "test_features = np.array(test_features)\n",
    "test_features = np.reshape(test_features, (test_features.shape[0], test_features.shape[1], 1))"
   ]
  },
  {
   "cell_type": "markdown",
   "metadata": {},
   "source": [
    "# Making Predictions\n",
    "Now is the time to see the magic. We preprocessed our test data and now we can use it to make predictions. To do so, we simply need to call the predict method on the model that we trained. Execute the following script:"
   ]
  },
  {
   "cell_type": "code",
   "execution_count": 25,
   "metadata": {},
   "outputs": [],
   "source": [
    "predictions = model.predict(test_features)"
   ]
  },
  {
   "cell_type": "markdown",
   "metadata": {},
   "source": [
    "Since we scaled our data, the predictions made by the LSTM are also scaled. We need to reverse the scaled prediction back to their actual values. To do so, we can use the ìnverse_transform method of the scaler object we created during training. Take a look at the following script:"
   ]
  },
  {
   "cell_type": "code",
   "execution_count": 26,
   "metadata": {},
   "outputs": [],
   "source": [
    "predictions = scaler.inverse_transform(predictions) # reverse the scale"
   ]
  },
  {
   "cell_type": "markdown",
   "metadata": {},
   "source": [
    "Finally, let's see how well did our algorithm predicted the future stock prices. Execute the following script:"
   ]
  },
  {
   "cell_type": "code",
   "execution_count": 28,
   "metadata": {},
   "outputs": [
    {
     "data": {
      "image/png": "[encoded data removed]",
      "text/plain": [
       "<Figure size 720x432 with 1 Axes>"
      ]
     },
     "metadata": {
      "needs_background": "light"
     },
     "output_type": "display_data"
    },
    {
     "name": "stdout",
     "output_type": "stream",
     "text": [
      "len(predictions) = 195\n",
      "len(apple_testing_processed) = 255\n"
     ]
    }
   ],
   "source": [
    "plt.figure(figsize=(10,6))\n",
    "plt.plot(apple_testing_processed, color='blue', label='Actual Apple Stock Price')\n",
    "plt.plot(predictions , color='red', label='Predicted Apple Stock Price')\n",
    "plt.title('Apple Stock Price Prediction')\n",
    "plt.xlabel('Row Number')\n",
    "plt.ylabel('Apple Stock Price')\n",
    "plt.legend()\n",
    "plt.grid()\n",
    "plt.show()\n",
    "print(f\"{len(predictions) = }\")\n",
    "print(f\"{len(apple_testing_processed) = }\")"
   ]
  }
 ],
 "metadata": {
  "interpreter": {
   "hash": "dd41bac1d8db17b31c68ce1286b69c01fec043d602a821ee3713b98a0a7f8953"
  },
  "kernelspec": {
   "display_name": "Python 3.9.7 ('venv': venv)",
   "language": "python",
   "name": "python3"
  },
  "language_info": {
   "codemirror_mode": {
    "name": "ipython",
    "version": 3
   },
   "file_extension": ".py",
   "mimetype": "text/x-python",
   "name": "python",
   "nbconvert_exporter": "python",
   "pygments_lexer": "ipython3",
   "version": "3.9.7"
  },
  "orig_nbformat": 4
 },
 "nbformat": 4,
 "nbformat_minor": 2
}
