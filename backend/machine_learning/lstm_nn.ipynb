{
 "cells": [
  {
   "cell_type": "markdown",
   "metadata": {},
   "source": [
    "# LSTM Neural Network\n",
    "This script has the objective of converting output of the log filter (positions) into the machine learning model using keras."
   ]
  },
  {
   "cell_type": "code",
   "execution_count": 1,
   "metadata": {},
   "outputs": [
    {
     "name": "stderr",
     "output_type": "stream",
     "text": [
      "2022-04-26 15:50:27.999668: W tensorflow/stream_executor/platform/default/dso_loader.cc:64] Could not load dynamic library 'libcudart.so.11.0'; dlerror: libcudart.so.11.0: cannot open shared object file: No such file or directory\n",
      "2022-04-26 15:50:27.999711: I tensorflow/stream_executor/cuda/cudart_stub.cc:29] Ignore above cudart dlerror if you do not have a GPU set up on your machine.\n"
     ]
    }
   ],
   "source": [
    "# Essential imports\n",
    "import numpy as np\n",
    "import matplotlib.pyplot as plt\n",
    "import pandas as pd\n",
    "from sklearn.preprocessing import MinMaxScaler\n",
    "from sklearn.preprocessing import LabelEncoder\n",
    "from sklearn.preprocessing import OneHotEncoder\n",
    "\n",
    "# LSTM library\n",
    "from keras.models import Sequential\n",
    "from keras.layers import Dense\n",
    "from keras.layers import LSTM\n",
    "from keras.layers import Dropout\n",
    "from keras import optimizers\n",
    "import keras\n",
    "\n",
    "# File Management\n",
    "import json\n",
    "\n",
    "# Debug\n",
    "from datetime import datetime\n",
    "import time"
   ]
  },
  {
   "cell_type": "markdown",
   "metadata": {},
   "source": [
    "First let's define the Hyper Parameters and global variables used on the algorithm."
   ]
  },
  {
   "cell_type": "code",
   "execution_count": 7,
   "metadata": {},
   "outputs": [],
   "source": [
    "N_CLOSEST_PLAYERS = 3\n",
    "\n",
    "PAST_TIME_STEPS = 120 # Number of past steps that will be stored on the memory\n",
    "\n",
    "# LABEL_COLUMN = 0 # Column on the object returned by the filtered log\n",
    "# FEATURE_COLUMNS_RANGE = (0,0)\n",
    "\n",
    "# TRAINING_PATH = \"./training_model/csv_with_labels(full).csv\"\n",
    "TRAINING_PATH = \"./training_model/dinis_game_1_labelled.csv\"\n",
    "TRAINING_START_ROW = 628 # default 0\n",
    "TRAINING_END_ROW = 5000 # default -1\n",
    "\n",
    "# TEST_PATH = \"./training_model/csv_with_labels(full).csv\"\n",
    "TEST_PATH = \"./training_model/dinis_game_1_labelled.csv\"\n",
    "TEST_START_ROW = 5000 # default 0\n",
    "TEST_END_ROW = 7500 # default -1\n",
    "\n",
    "# labels definition\n",
    "# LABELS = [\"Short Pass\", \"Long Pass\", \"Goal Shot\"] \n",
    "# TODO: Complete with all labels\n",
    "# OBS.: These labels will be in the matrix as index values (0..N-1),\n",
    "# where N is the number of labels\n",
    "N_NEURONS_LSTM = 10\n",
    "BATCH_SIZE = 100\n",
    "EPOCHS = 100"
   ]
  },
  {
   "cell_type": "markdown",
   "metadata": {},
   "source": [
    "Here are some functions that will be used on the code. These functions don't have initial configuration because it'll depend how the log filter will be made."
   ]
  },
  {
   "cell_type": "code",
   "execution_count": 8,
   "metadata": {},
   "outputs": [],
   "source": [
    "def get_filtered_data(path=\"\", starting_row=0, ending_row=-1):\n",
    "    \"\"\"Given a path to a csv file, returns the timestamp and the matrix \"\"\"\n",
    "\n",
    "    idxs = [i for i in range(0, N_CLOSEST_PLAYERS + 1)] + [i for i in range(12, N_CLOSEST_PLAYERS + 1)] + [23]\n",
    "\n",
    "    training_csv = pd.read_csv(path, usecols=idxs).values\n",
    "    timestamps = training_csv[starting_row:ending_row,0]\n",
    "    matrix = training_csv[starting_row:ending_row, 1:]\n",
    "\n",
    "    return timestamps, matrix\n",
    "\n",
    "\n",
    "def vector_to_one_hot_encoding(vector):\n",
    "    pass"
   ]
  },
  {
   "cell_type": "markdown",
   "metadata": {},
   "source": [
    "Get the data and plot the graph"
   ]
  },
  {
   "cell_type": "code",
   "execution_count": 9,
   "metadata": {},
   "outputs": [
    {
     "data": {
      "image/png": "[encoded data removed]",
      "text/plain": [
       "<Figure size 720x432 with 1 Axes>"
      ]
     },
     "metadata": {
      "needs_background": "light"
     },
     "output_type": "display_data"
    }
   ],
   "source": [
    "timestamps_training, positions_training = get_filtered_data(path=TRAINING_PATH, starting_row=TRAINING_START_ROW, ending_row=TRAINING_END_ROW)\n",
    "\n",
    "plt.figure(figsize=(10,6))\n",
    "plt.plot(timestamps_training, positions_training[:,-1] ,color='blue')\n",
    "plt.title('Training CSV')\n",
    "plt.xlabel('Game Time (seconds)')\n",
    "plt.ylabel('Event ID')\n",
    "plt.grid()\n",
    "plt.show()\n"
   ]
  },
  {
   "cell_type": "markdown",
   "metadata": {},
   "source": [
    "Now it's needed to get and proccess data accordingly"
   ]
  },
  {
   "cell_type": "code",
   "execution_count": 35,
   "metadata": {},
   "outputs": [
    {
     "name": "stdout",
     "output_type": "stream",
     "text": [
      "features_set.shape = (4880, 120, 21)\n"
     ]
    }
   ],
   "source": [
    "n_examples = len(positions_training)\n",
    "\n",
    "n_features = positions_training.shape[1] - 1\n",
    "\n",
    "\n",
    "# Applying normalization\n",
    "scaler = MinMaxScaler(feature_range=(0,1)) # Apply values to [0, 1]\n",
    "positions_training_scaled = scaler.fit_transform(positions_training)\n",
    "\n",
    "# print(f\"{positions_training = }\")\n",
    "# print(f\"{positions_training_scaled = }\")\n",
    "\n",
    "# Convert training array to the right shape\n",
    "features_set = []\n",
    "labels = []\n",
    "\n",
    "for i in range(PAST_TIME_STEPS, n_examples):\n",
    "    features_set.append(positions_training_scaled[i-PAST_TIME_STEPS:i, 0:n_features]) # previous N records\n",
    "    labels.append(positions_training_scaled[i, -1])\n",
    "\n",
    "# Converting to numpy arrays\n",
    "features_set, labels = np.array(features_set), np.array(labels)\n",
    "# print(features_set)\n",
    "\n",
    "# Converting to the LSTM format where the dimensions are:\n",
    "# - number of records\n",
    "# - number of time steps (past steps)\n",
    "# - number of indicators/features.\n",
    "features_set = np.reshape(features_set, (features_set.shape[0], features_set.shape[1], features_set.shape[2]))\n",
    "print(f\"{features_set.shape = }\")"
   ]
  },
  {
   "cell_type": "markdown",
   "metadata": {},
   "source": [
    "Second Try"
   ]
  },
  {
   "cell_type": "code",
   "execution_count": 10,
   "metadata": {},
   "outputs": [
    {
     "name": "stdout",
     "output_type": "stream",
     "text": [
      "[0 1 2] [1890 1582  900]\n",
      "[[1. 0. 0.]\n",
      " [1. 0. 0.]\n",
      " [1. 0. 0.]\n",
      " ...\n",
      " [1. 0. 0.]\n",
      " [1. 0. 0.]\n",
      " [1. 0. 0.]]\n",
      "3\n"
     ]
    }
   ],
   "source": [
    "X_train = positions_training[:,:-1]\n",
    "Y_train = positions_training[:,-1]\n",
    "Y_train = Y_train.astype(np.int32)\n",
    "unique, counts = np.unique(Y_train, return_counts=True)\n",
    "print(unique, counts)\n",
    "\n",
    "# Converts to array of ids itself (se calhar n precisa no futuro, usar enquanto aparecem poucos outputs nos labels)\n",
    "label_encoder = LabelEncoder()\n",
    "onehot_encoder = OneHotEncoder(sparse=False)\n",
    "\n",
    "Y_train = label_encoder.fit_transform(Y_train)\n",
    "\n",
    "Y_train = Y_train.reshape(len(Y_train), 1)\n",
    "Y_train_onehot = onehot_encoder.fit_transform(Y_train)\n",
    "n_outputs = len(np.unique(Y_train))\n",
    "\n",
    "\n",
    "\n",
    "print(Y_train_onehot)\n",
    "print(n_outputs)\n"
   ]
  },
  {
   "cell_type": "markdown",
   "metadata": {},
   "source": [
    "With the data loaded and formatted, now it's time to create the model itself."
   ]
  },
  {
   "cell_type": "code",
   "execution_count": 38,
   "metadata": {},
   "outputs": [],
   "source": [
    "# Model initialization\n",
    "model = Sequential()\n",
    "\n",
    "# Adding LSTM layer\n",
    "# a funcao \"add\" literalmente adiciona um novo layer, que no nosso caso, sera um LSTM\n",
    "\n",
    "# The fist LSTM parameter is the number of neurons on the node\n",
    "# The second one is basically true, because we'll add more layers to the model\n",
    "# The last one is a shape indicating the number of time steps and the number of indicators\n",
    "\n",
    "model.add(LSTM(units=N_NEURONS_LSTM, return_sequences=True, input_shape=(features_set.shape[1], features_set.shape[2])))\n",
    "# model.add(LSTM(units=N_NEURONS_LSTM, return_sequences=True))\n",
    "\n",
    "\n",
    "# Adding Dropout layer (avoids over-fitting)\n",
    "model.add(Dropout(0.2))\n",
    "\n",
    "# Adding three more LSTM and Dropout layers\n",
    "model.add(LSTM(units=N_NEURONS_LSTM, return_sequences=False))\n",
    "model.add(Dropout(0.2))\n",
    "\n",
    "# model.add(LSTM(units=N_NEURONS_LSTM, return_sequences=True))\n",
    "# model.add(Dropout(0.2))\n",
    "\n",
    "# model.add(LSTM(units=N_NEURONS_LSTM))\n",
    "# model.add(Dropout(0.2))\n",
    "\n",
    "# Adding Dense Layer (ending layer...?)\n",
    "# 1 unit beause we want to predict\n",
    "model.add(Dense(n_outputs, activation=\"softmax\"))\n",
    "\n",
    "\n",
    "# Compiling the model\n",
    "model.compile(optimizer = 'adam', loss = 'mean_squared_error', metrics=['accuracy'])\n"
   ]
  },
  {
   "cell_type": "markdown",
   "metadata": {},
   "source": [
    "Training the model"
   ]
  },
  {
   "cell_type": "code",
   "execution_count": 39,
   "metadata": {},
   "outputs": [
    {
     "name": "stdout",
     "output_type": "stream",
     "text": [
      "Epoch 1/100\n"
     ]
    },
    {
     "name": "stderr",
     "output_type": "stream",
     "text": [
      "2022-04-24 20:08:12.426612: W tensorflow/core/framework/cpu_allocator_impl.cc:82] Allocation of 49190400 exceeds 10% of free system memory.\n"
     ]
    },
    {
     "name": "stdout",
     "output_type": "stream",
     "text": [
      "49/49 [==============================] - 20s 179ms/step - loss: 0.0986 - accuracy: 0.0652\n",
      "Epoch 2/100\n",
      "49/49 [==============================] - 11s 226ms/step - loss: 0.0986 - accuracy: 0.0559\n",
      "Epoch 3/100\n",
      "49/49 [==============================] - 12s 239ms/step - loss: 0.0986 - accuracy: 0.0668\n",
      "Epoch 4/100\n",
      "49/49 [==============================] - 11s 214ms/step - loss: 0.0986 - accuracy: 0.0725\n",
      "Epoch 5/100\n",
      "49/49 [==============================] - 7s 147ms/step - loss: 0.0986 - accuracy: 0.0662\n",
      "Epoch 6/100\n",
      "49/49 [==============================] - 7s 144ms/step - loss: 0.0986 - accuracy: 0.0770\n",
      "Epoch 7/100\n",
      "49/49 [==============================] - 8s 152ms/step - loss: 0.0986 - accuracy: 0.0689\n",
      "Epoch 8/100\n",
      "49/49 [==============================] - 11s 216ms/step - loss: 0.0986 - accuracy: 0.0686\n",
      "Epoch 9/100\n",
      "49/49 [==============================] - 8s 154ms/step - loss: 0.0986 - accuracy: 0.0770\n",
      "Epoch 10/100\n",
      "49/49 [==============================] - 6s 117ms/step - loss: 0.0986 - accuracy: 0.0676\n",
      "Epoch 11/100\n",
      "49/49 [==============================] - 6s 119ms/step - loss: 0.0986 - accuracy: 0.0672\n",
      "Epoch 12/100\n",
      "49/49 [==============================] - 6s 121ms/step - loss: 0.0986 - accuracy: 0.0775\n",
      "Epoch 13/100\n",
      "49/49 [==============================] - 6s 120ms/step - loss: 0.0986 - accuracy: 0.0721\n",
      "Epoch 14/100\n",
      "49/49 [==============================] - 6s 123ms/step - loss: 0.0986 - accuracy: 0.0719\n",
      "Epoch 15/100\n",
      "49/49 [==============================] - 6s 123ms/step - loss: 0.0986 - accuracy: 0.0697\n",
      "Epoch 16/100\n",
      "49/49 [==============================] - 6s 127ms/step - loss: 0.0986 - accuracy: 0.0760\n",
      "Epoch 17/100\n",
      "49/49 [==============================] - 7s 144ms/step - loss: 0.0986 - accuracy: 0.0762\n",
      "Epoch 18/100\n",
      "49/49 [==============================] - 6s 112ms/step - loss: 0.0986 - accuracy: 0.0691\n",
      "Epoch 19/100\n",
      "49/49 [==============================] - 6s 112ms/step - loss: 0.0986 - accuracy: 0.0670\n",
      "Epoch 20/100\n",
      "49/49 [==============================] - 5s 108ms/step - loss: 0.0986 - accuracy: 0.0693\n",
      "Epoch 21/100\n",
      "49/49 [==============================] - 6s 112ms/step - loss: 0.0986 - accuracy: 0.0678\n",
      "Epoch 22/100\n",
      "49/49 [==============================] - 5s 110ms/step - loss: 0.0986 - accuracy: 0.0684\n",
      "Epoch 23/100\n",
      "49/49 [==============================] - 6s 112ms/step - loss: 0.0986 - accuracy: 0.0732\n",
      "Epoch 24/100\n",
      "49/49 [==============================] - 5s 109ms/step - loss: 0.0986 - accuracy: 0.0691\n",
      "Epoch 25/100\n",
      "49/49 [==============================] - 5s 111ms/step - loss: 0.0986 - accuracy: 0.0717\n",
      "Epoch 26/100\n",
      "49/49 [==============================] - 5s 111ms/step - loss: 0.0986 - accuracy: 0.0660\n",
      "Epoch 27/100\n",
      "49/49 [==============================] - 6s 113ms/step - loss: 0.0986 - accuracy: 0.0648\n",
      "Epoch 28/100\n",
      "49/49 [==============================] - 5s 109ms/step - loss: 0.0986 - accuracy: 0.0723\n",
      "Epoch 29/100\n",
      "49/49 [==============================] - 5s 108ms/step - loss: 0.0986 - accuracy: 0.0738\n",
      "Epoch 30/100\n",
      "49/49 [==============================] - 6s 113ms/step - loss: 0.0986 - accuracy: 0.0766\n",
      "Epoch 31/100\n",
      "49/49 [==============================] - 6s 115ms/step - loss: 0.0986 - accuracy: 0.0660\n",
      "Epoch 32/100\n",
      "49/49 [==============================] - 5s 111ms/step - loss: 0.0986 - accuracy: 0.0707\n",
      "Epoch 33/100\n",
      "49/49 [==============================] - 13s 265ms/step - loss: 0.0986 - accuracy: 0.0723\n",
      "Epoch 34/100\n",
      "49/49 [==============================] - 10s 209ms/step - loss: 0.0986 - accuracy: 0.0725\n",
      "Epoch 35/100\n",
      "49/49 [==============================] - 8s 164ms/step - loss: 0.0986 - accuracy: 0.0697\n",
      "Epoch 36/100\n",
      "49/49 [==============================] - 8s 161ms/step - loss: 0.0986 - accuracy: 0.0637\n",
      "Epoch 37/100\n",
      "49/49 [==============================] - 9s 174ms/step - loss: 0.0986 - accuracy: 0.0715\n",
      "Epoch 38/100\n",
      "49/49 [==============================] - 7s 148ms/step - loss: 0.0986 - accuracy: 0.0705\n",
      "Epoch 39/100\n",
      "49/49 [==============================] - 6s 129ms/step - loss: 0.0986 - accuracy: 0.0682\n",
      "Epoch 40/100\n",
      "49/49 [==============================] - 7s 133ms/step - loss: 0.0986 - accuracy: 0.0684\n",
      "Epoch 41/100\n",
      "49/49 [==============================] - 6s 124ms/step - loss: 0.0986 - accuracy: 0.0711\n",
      "Epoch 42/100\n",
      "49/49 [==============================] - 6s 120ms/step - loss: 0.0986 - accuracy: 0.0740\n",
      "Epoch 43/100\n",
      "49/49 [==============================] - 6s 119ms/step - loss: 0.0986 - accuracy: 0.0664\n",
      "Epoch 44/100\n",
      "49/49 [==============================] - 6s 123ms/step - loss: 0.0986 - accuracy: 0.0738\n",
      "Epoch 45/100\n",
      "49/49 [==============================] - 6s 122ms/step - loss: 0.0986 - accuracy: 0.0723\n",
      "Epoch 46/100\n",
      "49/49 [==============================] - 6s 120ms/step - loss: 0.0986 - accuracy: 0.0676\n",
      "Epoch 47/100\n",
      "49/49 [==============================] - 6s 119ms/step - loss: 0.0986 - accuracy: 0.0676\n",
      "Epoch 48/100\n",
      "49/49 [==============================] - 6s 124ms/step - loss: 0.0986 - accuracy: 0.0705\n",
      "Epoch 49/100\n",
      "49/49 [==============================] - 8s 173ms/step - loss: 0.0986 - accuracy: 0.0713\n",
      "Epoch 50/100\n",
      "49/49 [==============================] - 8s 157ms/step - loss: 0.0986 - accuracy: 0.0715\n",
      "Epoch 51/100\n",
      "49/49 [==============================] - 7s 133ms/step - loss: 0.0986 - accuracy: 0.0742\n",
      "Epoch 52/100\n",
      "49/49 [==============================] - 6s 121ms/step - loss: 0.0986 - accuracy: 0.0764\n",
      "Epoch 53/100\n",
      "49/49 [==============================] - 6s 125ms/step - loss: 0.0986 - accuracy: 0.0746\n",
      "Epoch 54/100\n",
      "49/49 [==============================] - 6s 118ms/step - loss: 0.0986 - accuracy: 0.0758\n",
      "Epoch 55/100\n",
      "49/49 [==============================] - 6s 129ms/step - loss: 0.0986 - accuracy: 0.0725\n",
      "Epoch 56/100\n",
      "49/49 [==============================] - 7s 133ms/step - loss: 0.0986 - accuracy: 0.0695\n",
      "Epoch 57/100\n",
      "49/49 [==============================] - 6s 122ms/step - loss: 0.0986 - accuracy: 0.0766\n",
      "Epoch 58/100\n",
      "49/49 [==============================] - 6s 121ms/step - loss: 0.0986 - accuracy: 0.0766\n",
      "Epoch 59/100\n",
      "49/49 [==============================] - 6s 119ms/step - loss: 0.0986 - accuracy: 0.0811\n",
      "Epoch 60/100\n",
      "49/49 [==============================] - 7s 148ms/step - loss: 0.0986 - accuracy: 0.0758\n",
      "Epoch 61/100\n",
      "49/49 [==============================] - 6s 129ms/step - loss: 0.0986 - accuracy: 0.0680\n",
      "Epoch 62/100\n",
      "49/49 [==============================] - 6s 125ms/step - loss: 0.0986 - accuracy: 0.0713\n",
      "Epoch 63/100\n",
      "49/49 [==============================] - 6s 123ms/step - loss: 0.0986 - accuracy: 0.0742\n",
      "Epoch 64/100\n",
      "49/49 [==============================] - 6s 123ms/step - loss: 0.0986 - accuracy: 0.0795\n",
      "Epoch 65/100\n",
      "49/49 [==============================] - 6s 129ms/step - loss: 0.0986 - accuracy: 0.0805\n",
      "Epoch 66/100\n",
      "49/49 [==============================] - 6s 124ms/step - loss: 0.0986 - accuracy: 0.0721\n",
      "Epoch 67/100\n",
      "49/49 [==============================] - 6s 125ms/step - loss: 0.0986 - accuracy: 0.0738\n",
      "Epoch 68/100\n",
      "49/49 [==============================] - 7s 140ms/step - loss: 0.0986 - accuracy: 0.0756\n",
      "Epoch 69/100\n",
      "49/49 [==============================] - 6s 123ms/step - loss: 0.0986 - accuracy: 0.0742\n",
      "Epoch 70/100\n",
      "49/49 [==============================] - 6s 125ms/step - loss: 0.0986 - accuracy: 0.0770\n",
      "Epoch 71/100\n",
      "49/49 [==============================] - 6s 120ms/step - loss: 0.0986 - accuracy: 0.0709\n",
      "Epoch 72/100\n",
      "49/49 [==============================] - 6s 124ms/step - loss: 0.0986 - accuracy: 0.0768\n",
      "Epoch 73/100\n",
      "49/49 [==============================] - 6s 123ms/step - loss: 0.0986 - accuracy: 0.0752\n",
      "Epoch 74/100\n",
      "49/49 [==============================] - 6s 125ms/step - loss: 0.0986 - accuracy: 0.0814\n",
      "Epoch 75/100\n",
      "49/49 [==============================] - 6s 125ms/step - loss: 0.0986 - accuracy: 0.0738\n",
      "Epoch 76/100\n",
      "49/49 [==============================] - 6s 124ms/step - loss: 0.0986 - accuracy: 0.0682\n",
      "Epoch 77/100\n",
      "49/49 [==============================] - 6s 125ms/step - loss: 0.0986 - accuracy: 0.0781\n",
      "Epoch 78/100\n",
      "49/49 [==============================] - 6s 121ms/step - loss: 0.0986 - accuracy: 0.0742\n",
      "Epoch 79/100\n",
      "49/49 [==============================] - 6s 125ms/step - loss: 0.0986 - accuracy: 0.0699\n",
      "Epoch 80/100\n",
      "49/49 [==============================] - 6s 129ms/step - loss: 0.0986 - accuracy: 0.0783\n",
      "Epoch 81/100\n",
      "49/49 [==============================] - 7s 148ms/step - loss: 0.0986 - accuracy: 0.0750\n",
      "Epoch 82/100\n",
      "49/49 [==============================] - 6s 125ms/step - loss: 0.0986 - accuracy: 0.0672\n",
      "Epoch 83/100\n",
      "49/49 [==============================] - 5s 111ms/step - loss: 0.0986 - accuracy: 0.0723\n",
      "Epoch 84/100\n",
      "49/49 [==============================] - 5s 109ms/step - loss: 0.0986 - accuracy: 0.0754\n",
      "Epoch 85/100\n",
      "49/49 [==============================] - 5s 109ms/step - loss: 0.0986 - accuracy: 0.0715\n",
      "Epoch 86/100\n",
      "49/49 [==============================] - 8s 157ms/step - loss: 0.0986 - accuracy: 0.0736\n",
      "Epoch 87/100\n",
      "49/49 [==============================] - 5s 111ms/step - loss: 0.0986 - accuracy: 0.0703\n",
      "Epoch 88/100\n",
      "49/49 [==============================] - 6s 114ms/step - loss: 0.0986 - accuracy: 0.0707\n",
      "Epoch 89/100\n",
      "49/49 [==============================] - 6s 112ms/step - loss: 0.0986 - accuracy: 0.0707\n",
      "Epoch 90/100\n",
      "49/49 [==============================] - 6s 122ms/step - loss: 0.0986 - accuracy: 0.0770\n",
      "Epoch 91/100\n",
      "49/49 [==============================] - 6s 131ms/step - loss: 0.0986 - accuracy: 0.0725\n",
      "Epoch 92/100\n",
      "49/49 [==============================] - 6s 115ms/step - loss: 0.0986 - accuracy: 0.0750\n",
      "Epoch 93/100\n",
      "49/49 [==============================] - 6s 113ms/step - loss: 0.0986 - accuracy: 0.0779\n",
      "Epoch 94/100\n",
      "49/49 [==============================] - 5s 105ms/step - loss: 0.0986 - accuracy: 0.0742\n",
      "Epoch 95/100\n",
      "49/49 [==============================] - 5s 104ms/step - loss: 0.0986 - accuracy: 0.0734\n",
      "Epoch 96/100\n",
      "49/49 [==============================] - 5s 106ms/step - loss: 0.0986 - accuracy: 0.0748\n",
      "Epoch 97/100\n",
      "49/49 [==============================] - 6s 122ms/step - loss: 0.0986 - accuracy: 0.0717\n",
      "Epoch 98/100\n",
      "49/49 [==============================] - 6s 124ms/step - loss: 0.0986 - accuracy: 0.0754\n",
      "Epoch 99/100\n",
      "49/49 [==============================] - 6s 117ms/step - loss: 0.0986 - accuracy: 0.0801\n",
      "Epoch 100/100\n",
      "49/49 [==============================] - 6s 116ms/step - loss: 0.0986 - accuracy: 0.0670\n"
     ]
    }
   ],
   "source": [
    "# Training the model\n",
    "# epochs --> number of iteractions probably\n",
    "history = model.fit(features_set, labels, epochs = EPOCHS, batch_size = BATCH_SIZE) # batch_size does a lot of improvement"
   ]
  },
  {
   "cell_type": "markdown",
   "metadata": {},
   "source": [
    "Plot History"
   ]
  },
  {
   "cell_type": "code",
   "execution_count": 40,
   "metadata": {},
   "outputs": [
    {
     "name": "stdout",
     "output_type": "stream",
     "text": [
      "dict_keys(['loss', 'accuracy'])\n"
     ]
    },
    {
     "data": {
      "image/png": "[encoded data removed]",
      "text/plain": [
       "<Figure size 432x288 with 1 Axes>"
      ]
     },
     "metadata": {
      "needs_background": "light"
     },
     "output_type": "display_data"
    },
    {
     "data": {
      "image/png": "[encoded data removed]",
      "text/plain": [
       "<Figure size 432x288 with 1 Axes>"
      ]
     },
     "metadata": {
      "needs_background": "light"
     },
     "output_type": "display_data"
    }
   ],
   "source": [
    "print(history.history.keys())\n",
    "plt.plot(history.history.get(\"loss\"))\n",
    "plt.grid()\n",
    "plt.ylabel(\"Loss\")\n",
    "plt.xlabel(\"Epoch\")\n",
    "plt.show()\n",
    "\n",
    "plt.plot(history.history.get(\"accuracy\"))\n",
    "plt.grid()\n",
    "plt.ylabel(\"Accuracy\")\n",
    "plt.xlabel(\"Epoch\")\n",
    "plt.show()"
   ]
  },
  {
   "cell_type": "markdown",
   "metadata": {},
   "source": [
    "Plotting our test model"
   ]
  },
  {
   "cell_type": "code",
   "execution_count": 41,
   "metadata": {},
   "outputs": [
    {
     "data": {
      "image/png": "[encoded data removed]",
      "text/plain": [
       "<Figure size 720x432 with 1 Axes>"
      ]
     },
     "metadata": {
      "needs_background": "light"
     },
     "output_type": "display_data"
    }
   ],
   "source": [
    "timestamps_testing, positions_testing = get_filtered_data(path=TEST_PATH, starting_row=TEST_START_ROW, ending_row=TEST_END_ROW)\n",
    "plt.figure(figsize=(10,6))\n",
    "plt.plot(timestamps_testing, positions_testing[:,-1] ,color='blue')\n",
    "plt.title('Testing CSV')\n",
    "plt.xlabel('Game Time (seconds)')\n",
    "plt.ylabel('Event ID')\n",
    "plt.grid()\n",
    "plt.show()\n"
   ]
  },
  {
   "cell_type": "markdown",
   "metadata": {},
   "source": [
    "Testing our model"
   ]
  },
  {
   "cell_type": "code",
   "execution_count": 42,
   "metadata": {},
   "outputs": [
    {
     "name": "stderr",
     "output_type": "stream",
     "text": [
      "2022-04-24 20:19:53.527448: W tensorflow/core/framework/cpu_allocator_impl.cc:82] Allocation of 23990400 exceeds 10% of free system memory.\n"
     ]
    },
    {
     "name": "stdout",
     "output_type": "stream",
     "text": [
      "75/75 - 3s - loss: 0.0845 - accuracy: 0.0987 - 3s/epoch - 44ms/step\n",
      "test_loss = 0.08454810082912445\n",
      "test_accuracy = 0.09873949736356735\n"
     ]
    },
    {
     "name": "stderr",
     "output_type": "stream",
     "text": [
      "2022-04-24 20:19:57.175289: W tensorflow/core/framework/cpu_allocator_impl.cc:82] Allocation of 49190400 exceeds 10% of free system memory.\n"
     ]
    },
    {
     "name": "stdout",
     "output_type": "stream",
     "text": [
      "153/153 - 4s - loss: 0.0986 - accuracy: 0.0000e+00 - 4s/epoch - 23ms/step\n",
      "training_loss = 0.09860336780548096\n",
      "training_accuracy = 0.0\n"
     ]
    }
   ],
   "source": [
    "# Reshaping the testing\n",
    "positions_testing_scaled = scaler.transform(positions_testing)\n",
    "n_tests = len(positions_testing)\n",
    "\n",
    "# Add Past time\n",
    "test_features = []\n",
    "test_labels = []\n",
    "for i in range(PAST_TIME_STEPS, n_tests): \n",
    "    test_features.append(positions_testing_scaled[i-PAST_TIME_STEPS:i, 0:n_features])\n",
    "    test_labels.append(positions_testing_scaled[i, -1])\n",
    "\n",
    "\n",
    "# Convert to the LSTM format\n",
    "test_features = np.array(test_features)\n",
    "test_labels = np.array(test_labels)\n",
    "test_features = np.reshape(test_features, (test_features.shape[0], test_features.shape[1], test_features.shape[2]))\n",
    "\n",
    "test_loss, test_accuracy = model.evaluate(test_features, test_labels, verbose=2)\n",
    "print(f\"{test_loss = }\")\n",
    "print(f\"{test_accuracy = }\")\n",
    "\n",
    "training_loss, training_accuracy = model.evaluate(features_set, labels, verbose=2)\n",
    "print(f\"{training_loss = }\")\n",
    "print(f\"{training_accuracy = }\")\n",
    "\n"
   ]
  },
  {
   "cell_type": "markdown",
   "metadata": {},
   "source": [
    "Making Predictions"
   ]
  },
  {
   "cell_type": "code",
   "execution_count": 43,
   "metadata": {},
   "outputs": [
    {
     "name": "stderr",
     "output_type": "stream",
     "text": [
      "2022-04-24 20:20:27.228975: W tensorflow/core/framework/cpu_allocator_impl.cc:82] Allocation of 23990400 exceeds 10% of free system memory.\n"
     ]
    },
    {
     "name": "stdout",
     "output_type": "stream",
     "text": [
      "predictions.shape = (2380, 7)\n",
      "predictions[0,:] = array([0.14285904, 0.1428467 , 0.14286375, 0.14284642, 0.14284839,\n",
      "       0.14288619, 0.1428495 ], dtype=float32)\n",
      "26\n"
     ]
    }
   ],
   "source": [
    "predictions = model.predict(test_features)\n",
    "print(f\"{predictions.shape = }\")\n",
    "print(f\"{predictions[0,:] = }\") # probabilidade das 4 classes\n",
    "print(f\"{np.argmax(predictions[0:4])}\")\n",
    "# predictions_dataset_like = np.zeros(shape=(len(predictions), n_features))\n",
    "# predictions_dataset_like[:,0] = predictions[:,0]\n",
    "# # inverse transform and then select the right field\n",
    "# predictions = scaler.inverse_transform(predictions_dataset_like)[:,0]\n",
    "\n",
    "# predictions = scaler.inverse_transform(predictions[:,0]) # reverse the scale\n",
    "# print(f\"{predictions.shape = }\")\n",
    "# print(f\"{test_features.shape = }\")\n",
    "# print(f\"{n_features = }\")\n",
    "\n"
   ]
  },
  {
   "cell_type": "markdown",
   "metadata": {},
   "source": [
    "Plot results"
   ]
  },
  {
   "cell_type": "code",
   "execution_count": null,
   "metadata": {},
   "outputs": [
    {
     "data": {
      "image/png": "[encoded data removed]",
      "text/plain": [
       "<Figure size 720x432 with 1 Axes>"
      ]
     },
     "metadata": {
      "needs_background": "light"
     },
     "output_type": "display_data"
    }
   ],
   "source": [
    "plt.figure(figsize=(10,6))\n",
    "plt.plot(timestamps_testing, positions_testing[:,-1], color='blue', label='Actual Event')\n",
    "plt.plot(timestamps_testing[:-PAST_TIME_STEPS], predictions[:,-1] , color='red', label='Predicted Event')\n",
    "plt.title('Event Prediction')\n",
    "plt.xlabel('Timestamp (Seconds)')\n",
    "plt.ylabel('Event ID')\n",
    "plt.legend()\n",
    "plt.grid()\n",
    "plt.show()"
   ]
  }
 ],
 "metadata": {
  "interpreter": {
   "hash": "916dbcbb3f70747c44a77c7bcd40155683ae19c65e1c03b4aa3499c5328201f1"
  },
  "kernelspec": {
   "display_name": "Python 3.8.10 64-bit",
   "language": "python",
   "name": "python3"
  },
  "language_info": {
   "codemirror_mode": {
    "name": "ipython",
    "version": 3
   },
   "file_extension": ".py",
   "mimetype": "text/x-python",
   "name": "python",
   "nbconvert_exporter": "python",
   "pygments_lexer": "ipython3",
   "version": "3.9.7"
  },
  "orig_nbformat": 4
 },
 "nbformat": 4,
 "nbformat_minor": 2
}
