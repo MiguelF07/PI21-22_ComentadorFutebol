{
 "cells": [
  {
   "cell_type": "markdown",
   "metadata": {},
   "source": [
    "# LSTM Neural Network\n",
    "This script has the objective of converting output of the log filter (positions) into the machine learning model using keras."
   ]
  },
  {
   "cell_type": "code",
   "execution_count": 1,
   "metadata": {},
   "outputs": [
    {
     "name": "stderr",
     "output_type": "stream",
     "text": [
      "2022-04-23 12:31:07.620078: W tensorflow/stream_executor/platform/default/dso_loader.cc:64] Could not load dynamic library 'libcudart.so.11.0'; dlerror: libcudart.so.11.0: cannot open shared object file: No such file or directory\n",
      "2022-04-23 12:31:07.620102: I tensorflow/stream_executor/cuda/cudart_stub.cc:29] Ignore above cudart dlerror if you do not have a GPU set up on your machine.\n"
     ]
    }
   ],
   "source": [
    "# Essential imports\n",
    "import numpy as np\n",
    "import matplotlib.pyplot as plt\n",
    "import pandas as pd\n",
    "from sklearn.preprocessing import MinMaxScaler\n",
    "\n",
    "# LSTM library\n",
    "from keras.models import Sequential\n",
    "from keras.layers import Dense\n",
    "from keras.layers import LSTM\n",
    "from keras.layers import Dropout\n",
    "\n",
    "# File Management\n",
    "import json\n",
    "\n",
    "# Debug\n",
    "from datetime import datetime\n",
    "import time"
   ]
  },
  {
   "cell_type": "markdown",
   "metadata": {},
   "source": [
    "First let's define the Hyper Parameters and global variables used on the algorithm."
   ]
  },
  {
   "cell_type": "code",
   "execution_count": 58,
   "metadata": {},
   "outputs": [],
   "source": [
    "PAST_TIME_STEPS = 2 # Number of past steps that will be stored on the memory\n",
    "\n",
    "# LABEL_COLUMN = 0 # Column on the object returned by the filtered log\n",
    "# FEATURE_COLUMNS_RANGE = (0,0)\n",
    "\n",
    "TRAINING_PATH = \"./training_model/csv_with_labels.csv\"\n",
    "TRAINING_START_ROW = 0 # default 0\n",
    "TRAINING_END_ROW = 50 # default -1\n",
    "\n",
    "TEST_PATH = \"./training_model/csv_with_labels.csv\"\n",
    "TEST_START_ROW = 50 # default 0\n",
    "TEST_END_ROW = -1 # default -1\n",
    "\n",
    "# labels definition\n",
    "LABELS = [\"Short Pass\", \"Long Pass\", \"Goal Shot\"] \n",
    "# TODO: Complete with all labels\n",
    "# OBS.: These labels will be in the matrix as index values (0..N-1),\n",
    "# where N is the number of labels\n",
    "N_NEURONS_LSTM = 50"
   ]
  },
  {
   "cell_type": "markdown",
   "metadata": {},
   "source": [
    "Here are some functions that will be used on the code. These functions don't have initial configuration because it'll depend how the log filter will be made."
   ]
  },
  {
   "cell_type": "code",
   "execution_count": 65,
   "metadata": {},
   "outputs": [],
   "source": [
    "def get_filtered_data(path=\"\", starting_row=0, ending_row=-1):\n",
    "    \"\"\"Given a path to a csv file, returns the timestamp and the matrix \"\"\"\n",
    "\n",
    "    training_csv = pd.read_csv(path, header=None).values\n",
    "    timestamps = training_csv[starting_row:ending_row,0]\n",
    "    matrix = training_csv[starting_row:ending_row, 1:]\n",
    "\n",
    "    return timestamps, matrix\n"
   ]
  },
  {
   "cell_type": "markdown",
   "metadata": {},
   "source": [
    "Get the data and plot the graph"
   ]
  },
  {
   "cell_type": "code",
   "execution_count": 79,
   "metadata": {},
   "outputs": [
    {
     "data": {
      "image/png": "[encoded data removed]",
      "text/plain": [
       "<Figure size 720x432 with 1 Axes>"
      ]
     },
     "metadata": {
      "needs_background": "light"
     },
     "output_type": "display_data"
    }
   ],
   "source": [
    "timestamps_training, positions_training = get_filtered_data(path=TRAINING_PATH, starting_row=TRAINING_START_ROW, ending_row=TRAINING_END_ROW)\n",
    "\n",
    "plt.figure(figsize=(10,6))\n",
    "plt.plot(timestamps_training, positions_training[:,-1] ,color='blue')\n",
    "plt.title('Training CSV')\n",
    "plt.xlabel('Timestamp')\n",
    "plt.ylabel('Class')\n",
    "plt.grid()\n",
    "plt.show()\n"
   ]
  },
  {
   "cell_type": "markdown",
   "metadata": {},
   "source": [
    "Now it's needed to get and proccess data accordingly"
   ]
  },
  {
   "cell_type": "code",
   "execution_count": 67,
   "metadata": {},
   "outputs": [
    {
     "name": "stdout",
     "output_type": "stream",
     "text": [
      "features_set.shape[0] = 48\n",
      "features_set.shape[1] = 2\n",
      "features_set.shape[2] = 69\n"
     ]
    }
   ],
   "source": [
    "\n",
    "\n",
    "\n",
    "n_examples = len(positions_training)\n",
    "\n",
    "n_features = positions_training.shape[1] - 1\n",
    "\n",
    "\n",
    "# Applying normalization\n",
    "scaler = MinMaxScaler(feature_range=(0,1)) # Apply values to [0, 1]\n",
    "positions_training_scaled = scaler.fit_transform(positions_training)\n",
    "\n",
    "# print(f\"{positions_training = }\")\n",
    "# print(f\"{positions_training_scaled = }\")\n",
    "\n",
    "# Convert training array to the right shape\n",
    "features_set = []\n",
    "labels = []\n",
    "\n",
    "for i in range(PAST_TIME_STEPS, n_examples):\n",
    "    features_set.append(positions_training_scaled[i-PAST_TIME_STEPS:i, 0:n_features]) # previous N records\n",
    "    labels.append(positions_training_scaled[i, -1])\n",
    "\n",
    "# Converting to numpy arrays\n",
    "features_set, labels = np.array(features_set), np.array(labels)\n",
    "# print(features_set)\n",
    "print(f\"{features_set.shape[0] = }\")\n",
    "print(f\"{features_set.shape[1] = }\")\n",
    "print(f\"{features_set.shape[2] = }\")\n",
    "\n",
    "# Converting to the LSTM format where the dimensions are:\n",
    "# - number of records\n",
    "# - number of time steps (past steps)\n",
    "# - number of indicators/features.\n",
    "features_set = np.reshape(features_set, (features_set.shape[0], features_set.shape[1], features_set.shape[2]))"
   ]
  },
  {
   "cell_type": "markdown",
   "metadata": {},
   "source": [
    "With the data loaded and formatted, now it's time to create the model itself."
   ]
  },
  {
   "cell_type": "code",
   "execution_count": 68,
   "metadata": {},
   "outputs": [],
   "source": [
    "# Model initialization\n",
    "model = Sequential()\n",
    "\n",
    "# Adding LSTM layer\n",
    "# a funcao \"add\" literalmente adiciona um novo layer, que no nosso caso, sera um LSTM\n",
    "\n",
    "# The fist LSTM parameter is the number of neurons on the node\n",
    "# The second one is basically true, because we'll add more layers to the model\n",
    "# The last one is a shape indicating the number of time steps and the number of indicators\n",
    "model.add(LSTM(units=N_NEURONS_LSTM, return_sequences=True, input_shape=(features_set.shape[1], features_set.shape[2])))\n",
    "\n",
    "# Adding Dropout layer (avoids over-fitting)\n",
    "model.add(Dropout(0.2))\n",
    "\n",
    "# Adding three more LSTM and Dropout layers\n",
    "model.add(LSTM(units=N_NEURONS_LSTM, return_sequences=True))\n",
    "model.add(Dropout(0.2))\n",
    "\n",
    "model.add(LSTM(units=N_NEURONS_LSTM, return_sequences=True))\n",
    "model.add(Dropout(0.2))\n",
    "\n",
    "model.add(LSTM(units=N_NEURONS_LSTM))\n",
    "model.add(Dropout(0.2))\n",
    "\n",
    "# Adding Dense Layer (ending layer...?)\n",
    "# 1 unit beause we want to predict\n",
    "model.add(Dense(units = 1))\n",
    "\n",
    "# Compiling the model\n",
    "model.compile(optimizer = 'adam', loss = 'mean_squared_error')\n"
   ]
  },
  {
   "cell_type": "markdown",
   "metadata": {},
   "source": [
    "Training the model"
   ]
  },
  {
   "cell_type": "code",
   "execution_count": 69,
   "metadata": {},
   "outputs": [
    {
     "name": "stdout",
     "output_type": "stream",
     "text": [
      "Epoch 1/12\n",
      "2/2 [==============================] - 14s 22ms/step - loss: 9.1040e-06\n",
      "Epoch 2/12\n",
      "2/2 [==============================] - 0s 27ms/step - loss: 5.5505e-06\n",
      "Epoch 3/12\n",
      "2/2 [==============================] - 0s 39ms/step - loss: 8.9896e-06\n",
      "Epoch 4/12\n",
      "2/2 [==============================] - 0s 36ms/step - loss: 1.7742e-06\n",
      "Epoch 5/12\n",
      "2/2 [==============================] - 0s 37ms/step - loss: 6.4648e-06\n",
      "Epoch 6/12\n",
      "2/2 [==============================] - 0s 34ms/step - loss: 1.3726e-06\n",
      "Epoch 7/12\n",
      "2/2 [==============================] - 0s 33ms/step - loss: 2.7696e-06\n",
      "Epoch 8/12\n",
      "2/2 [==============================] - 0s 30ms/step - loss: 2.1508e-06\n",
      "Epoch 9/12\n",
      "2/2 [==============================] - 0s 38ms/step - loss: 1.3765e-06\n",
      "Epoch 10/12\n",
      "2/2 [==============================] - 0s 16ms/step - loss: 1.8480e-06\n",
      "Epoch 11/12\n",
      "2/2 [==============================] - 0s 25ms/step - loss: 8.9941e-07\n",
      "Epoch 12/12\n",
      "2/2 [==============================] - 0s 29ms/step - loss: 1.2123e-06\n"
     ]
    },
    {
     "data": {
      "text/plain": [
       "<keras.callbacks.History at 0x7ff2815acd60>"
      ]
     },
     "execution_count": 69,
     "metadata": {},
     "output_type": "execute_result"
    }
   ],
   "source": [
    "# Training the model\n",
    "# epochs --> number of iteractions probably\n",
    "model.fit(features_set, labels, epochs = 12, batch_size = 32)"
   ]
  },
  {
   "cell_type": "markdown",
   "metadata": {},
   "source": [
    "Plotting our test model"
   ]
  },
  {
   "cell_type": "code",
   "execution_count": 78,
   "metadata": {},
   "outputs": [
    {
     "name": "stderr",
     "output_type": "stream",
     "text": [
      "No artists with labels found to put in legend.  Note that artists whose label start with an underscore are ignored when legend() is called with no argument.\n"
     ]
    },
    {
     "data": {
      "image/png": "[encoded data removed]",
      "text/plain": [
       "<Figure size 720x432 with 1 Axes>"
      ]
     },
     "metadata": {
      "needs_background": "light"
     },
     "output_type": "display_data"
    }
   ],
   "source": [
    "timestamps_testing, positions_testing = get_filtered_data(path=TEST_PATH, starting_row=TEST_START_ROW, ending_row=TEST_END_ROW)\n",
    "\n",
    "plt.figure(figsize=(10,6))\n",
    "plt.plot(timestamps_testing, positions_testing[:,-1] ,color='blue')\n",
    "plt.title('Testing CSV')\n",
    "plt.xlabel('Timestamp')\n",
    "plt.ylabel('Class')\n",
    "plt.grid()\n",
    "plt.show()"
   ]
  }
 ],
 "metadata": {
  "interpreter": {
   "hash": "916dbcbb3f70747c44a77c7bcd40155683ae19c65e1c03b4aa3499c5328201f1"
  },
  "kernelspec": {
   "display_name": "Python 3.8.10 64-bit",
   "language": "python",
   "name": "python3"
  },
  "language_info": {
   "codemirror_mode": {
    "name": "ipython",
    "version": 3
   },
   "file_extension": ".py",
   "mimetype": "text/x-python",
   "name": "python",
   "nbconvert_exporter": "python",
   "pygments_lexer": "ipython3",
   "version": "3.9.7"
  },
  "orig_nbformat": 4
 },
 "nbformat": 4,
 "nbformat_minor": 2
}
