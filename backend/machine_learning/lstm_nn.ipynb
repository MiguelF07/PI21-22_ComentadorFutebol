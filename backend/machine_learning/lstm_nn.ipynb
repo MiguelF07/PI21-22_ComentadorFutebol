{
 "cells": [
  {
   "cell_type": "markdown",
   "metadata": {},
   "source": [
    "# LSTM Neural Network\n",
    "This script has the objective of converting output of the log filter (positions) into the machine learning model using keras."
   ]
  },
  {
   "cell_type": "code",
   "execution_count": 1,
   "metadata": {},
   "outputs": [
    {
     "name": "stderr",
     "output_type": "stream",
     "text": [
      "2022-04-13 16:28:06.521174: W tensorflow/stream_executor/platform/default/dso_loader.cc:64] Could not load dynamic library 'libcudart.so.11.0'; dlerror: libcudart.so.11.0: cannot open shared object file: No such file or directory\n",
      "2022-04-13 16:28:06.521199: I tensorflow/stream_executor/cuda/cudart_stub.cc:29] Ignore above cudart dlerror if you do not have a GPU set up on your machine.\n"
     ]
    }
   ],
   "source": [
    "# Essential imports\n",
    "import numpy as np\n",
    "import matplotlib.pyplot as plt\n",
    "import pandas as pd\n",
    "from sklearn.preprocessing import MinMaxScaler\n",
    "\n",
    "# LSTM library\n",
    "from keras.models import Sequential\n",
    "from keras.layers import Dense\n",
    "from keras.layers import LSTM\n",
    "from keras.layers import Dropout"
   ]
  },
  {
   "cell_type": "markdown",
   "metadata": {},
   "source": [
    "First let's define the Hyper Parameters and global variables used on the algorithm."
   ]
  },
  {
   "cell_type": "code",
   "execution_count": null,
   "metadata": {},
   "outputs": [],
   "source": [
    "PAST_TIME_STEPS = 60 # Number of past steps that will be stored on the memory\n",
    "\n",
    "LABEL_COLUMN = 0 # Column on the object returned by the filtered log\n",
    "FEATURE_COLUMNS_RANGE = (0,0)\n",
    "\n",
    "TRAINING_PATH = \"\"\n",
    "TEST_PATH = \"\"\n",
    "\n",
    "# labels definition\n",
    "LABELS = [\"Short Pass\", \"Long Pass\", \"Goal Shot\"] \n",
    "# TODO: Complete with all labels\n",
    "# OBS.: These labels will be in the matrix as index values (0..N-1),\n",
    "# where N is the number of labels"
   ]
  },
  {
   "cell_type": "markdown",
   "metadata": {},
   "source": [
    "Here are some functions that will be used on the code. These functions don't have initial configuration because it'll depend how the log filter will be made."
   ]
  },
  {
   "cell_type": "code",
   "execution_count": null,
   "metadata": {},
   "outputs": [],
   "source": [
    "def get_filtered_data(path):\n",
    "    \"\"\"Given a path to a file, returns the filtered log data \"\"\"\n",
    "    return [] # TODO is this Json file? Or csv? Maybe csv is better\n"
   ]
  },
  {
   "cell_type": "markdown",
   "metadata": {},
   "source": [
    "Now it's needed to get and proccess data accordingly"
   ]
  },
  {
   "cell_type": "code",
   "execution_count": null,
   "metadata": {},
   "outputs": [],
   "source": [
    "\n",
    "\n",
    "positions_training = get_filtered_data(TRAINING_PATH)\n",
    "N_EXAMPLES = len(positions_training)\n",
    "# TODO: convert positions_training to numpy array accordingly\n",
    "\n",
    "# Applying normalization\n",
    "scaler = MinMaxScaler(feature_range=(0,1)) # Apply values to [0, 1]\n",
    "positions_training_scaled = scaler.fit_transform(positions_training)\n",
    "\n",
    "# Convert training array to the right shape\n",
    "features_set = []\n",
    "labels = []\n",
    "\n",
    "for i in range(PAST_TIME_STEPS, N_EXAMPLES):\n",
    "    features_set.append(positions_training_scaled[i-PAST_TIME_STEPS:i, FEATURE_COLUMNS_RANGE[0]:FEATURE_COLUMNS_RANGE[1]]) # previous N records\n",
    "    labels.append(positions_training_scaled[i, LABEL_COLUMN])\n",
    "\n",
    "# Converting to numpy arrays\n",
    "features_set, labels = np.array(features_set), np.array(labels)\n",
    "\n",
    "\n",
    "# Converting to the LSTM format where the dimensions are:\n",
    "# - number of records\n",
    "# - number of time steps (past steps)\n",
    "# - number of indicators/features.\n",
    "features_set = np.reshape(features_set, (features_set.shape[0], features_set.shape[1], len(LABELS)))"
   ]
  },
  {
   "cell_type": "markdown",
   "metadata": {},
   "source": [
    "With the data loaded and formatted, now it's time to create the model itself."
   ]
  },
  {
   "cell_type": "code",
   "execution_count": null,
   "metadata": {},
   "outputs": [],
   "source": [
    "# Model initialization\n",
    "model = Sequential()\n",
    "\n",
    "# Adding LSTM layer\n",
    "# a funcao \"add\" literalmente adiciona um novo layer, que no nosso caso, sera um LSTM\n",
    "\n",
    "# The fist LSTM parameter is the number of neurons on the node\n",
    "# The second one is basically true, because we'll add more layers to the model\n",
    "# The last one is a shape indicating the number of time steps and the number of indicators\n",
    "model.add(LSTM(units=50, return_sequences=True, input_shape=(features_set.shape[1], 1)))\n"
   ]
  }
 ],
 "metadata": {
  "interpreter": {
   "hash": "916dbcbb3f70747c44a77c7bcd40155683ae19c65e1c03b4aa3499c5328201f1"
  },
  "kernelspec": {
   "display_name": "Python 3.8.10 64-bit",
   "language": "python",
   "name": "python3"
  },
  "language_info": {
   "codemirror_mode": {
    "name": "ipython",
    "version": 3
   },
   "file_extension": ".py",
   "mimetype": "text/x-python",
   "name": "python",
   "nbconvert_exporter": "python",
   "pygments_lexer": "ipython3",
   "version": "3.9.7"
  },
  "orig_nbformat": 4
 },
 "nbformat": 4,
 "nbformat_minor": 2
}
