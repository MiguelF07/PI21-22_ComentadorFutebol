{
 "cells": [
  {
   "cell_type": "code",
   "execution_count": 33,
   "metadata": {},
   "outputs": [],
   "source": [
    "import numpy as np\n",
    "import pandas as pd"
   ]
  },
  {
   "cell_type": "code",
   "execution_count": 34,
   "metadata": {},
   "outputs": [],
   "source": [
    "def get_index(time_array, time):\n",
    "    for i in range(len(time_array)):\n",
    "        if time_array[i] > time:\n",
    "            return i\n",
    "    return len(time_array)-1"
   ]
  },
  {
   "cell_type": "code",
   "execution_count": null,
   "metadata": {},
   "outputs": [],
   "source": []
  },
  {
   "cell_type": "code",
   "execution_count": 44,
   "metadata": {},
   "outputs": [
    {
     "name": "stdout",
     "output_type": "stream",
     "text": [
      "Unrecognized label: goal_shot\n",
      "Unrecognized label: goal_shot\n",
      "Unrecognized label: goal_shot\n",
      "Unrecognized label: goal_shot\n",
      "Unrecognized label: goal_shot\n",
      "Unrecognized label: out\n",
      "Unrecognized label: out\n",
      "Unrecognized label: goal_shot\n",
      "Unrecognized label: goal_shot\n",
      "Unrecognized label: goal_shot\n",
      "Unrecognized label: goal_shot\n",
      "Unrecognized label: goal_shot\n"
     ]
    }
   ],
   "source": [
    "feature_file = \"sparkmonitor.csv\"\n",
    "labels_file = \"game.csv\" \n",
    "legend = [\"nothing\",\"kick_off\",\"dribble\",\"long_pass\",\"short_pass\",\"corner_shot\",\"intersect\",\"aggression\",\"defense\",\"poste\",\"trave\"]\n",
    "\n",
    "labelling = np.array(pd.read_csv(\"labelling/input/\"+labels_file,header=None))\n",
    "game_features = np.array(pd.read_csv(\"logs/output/\"+feature_file,header=None))\n",
    "time_array = game_features[:,0]\n",
    "\n",
    "# all output starts as 0 (nothing)\n",
    "zeros = np.zeros(game_features.shape[0]).reshape(game_features.shape[0],1)\n",
    "game_features = np.c_[game_features, zeros]\n",
    "\n",
    "for line in labelling:\n",
    "    label = 0\n",
    "    initial = float(line[0].split(\":\")[0])*60+float(line[0].split(\":\")[1])\n",
    "    final = float(line[1].split(\":\")[0])*60+float(line[1].split(\":\")[1])\n",
    "    i = get_index(time_array, initial) \n",
    "    f = get_index(time_array, final)\n",
    "    if(line[2].strip() in legend):\n",
    "        label = legend.index(line[2].strip())\n",
    "        game_features[i:f+1,-1] = label\n",
    "    else:\n",
    "        print(\"Unrecognized label:\",line[2].strip())\n",
    "\n",
    "#np.savetxt((\"labelling/output/\"+feature_file).rstrip(\".csv\")+\"_labelled.csv\", game_features, delimiter=\",\")\n",
    "pd.DataFrame(game_features).to_csv((\"labelling/output/\"+feature_file).rstrip(\".csv\")+\"_labelled.csv\", index=False)"
   ]
  },
  {
   "cell_type": "code",
   "execution_count": null,
   "metadata": {},
   "outputs": [],
   "source": []
  }
 ],
 "metadata": {
  "interpreter": {
   "hash": "0850b804fd0c75ccd54a6f52d91589d8ffb6401535acf6c408839e3990d437f7"
  },
  "kernelspec": {
   "display_name": "Python 3.9.7 ('base')",
   "language": "python",
   "name": "python3"
  },
  "language_info": {
   "codemirror_mode": {
    "name": "ipython",
    "version": 3
   },
   "file_extension": ".py",
   "mimetype": "text/x-python",
   "name": "python",
   "nbconvert_exporter": "python",
   "pygments_lexer": "ipython3",
   "version": "3.9.7"
  },
  "orig_nbformat": 4
 },
 "nbformat": 4,
 "nbformat_minor": 2
}
